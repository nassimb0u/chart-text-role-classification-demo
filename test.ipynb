{
 "cells": [
  {
   "cell_type": "code",
   "execution_count": 1,
   "id": "085fc7ab-eed4-4f70-a4ad-4577e76503fb",
   "metadata": {},
   "outputs": [],
   "source": [
    "import ast\n",
    "import json\n",
    "\n",
    "import cv2\n",
    "import pandas as pd\n",
    "from PIL import Image, ImageDraw\n",
    "from transformers import AutoModel, AutoModelForTokenClassification, AutoProcessor"
   ]
  },
  {
   "cell_type": "code",
   "execution_count": 2,
   "id": "3e3c2c8f-6195-44ec-a5b6-f01a9d29479e",
   "metadata": {},
   "outputs": [],
   "source": [
    "model = AutoModelForTokenClassification.from_pretrained(\n",
    "    \"nassimb0u/chart-text-role-classification-model\"\n",
    ")\n",
    "processor = AutoProcessor.from_pretrained(\n",
    "    \"nassimb0u/chart-text-role-classification-model\", apply_ocr=True\n",
    ")"
   ]
  },
  {
   "cell_type": "code",
   "execution_count": 18,
   "id": "077e27ad-875f-4a22-a350-31bc0b8b9d24",
   "metadata": {},
   "outputs": [
    {
     "name": "stdout",
     "output_type": "stream",
     "text": [
      "dict_keys(['input_ids', 'attention_mask', 'bbox', 'pixel_values'])\n"
     ]
    }
   ],
   "source": [
    "image = Image.open(\"PMC1618809___4.jpg\").convert(\"RGB\")\n",
    "encoding = processor(image, return_tensors=\"pt\")\n",
    "print(encoding.keys())"
   ]
  },
  {
   "cell_type": "code",
   "execution_count": 4,
   "id": "3650b31d-4424-4dd9-9772-16a75b38b291",
   "metadata": {},
   "outputs": [
    {
     "name": "stdout",
     "output_type": "stream",
     "text": [
      "tensor([[   0,    0,    0,    0],\n",
      "        [   4,  471,   30,  601],\n",
      "        [   4,  240,   30,  459],\n",
      "        [  60,    4,  125,   32],\n",
      "        [  60,    4,  125,   32],\n",
      "        [  60,    4,  125,   32],\n",
      "        [  60,  146,  155,  173],\n",
      "        [  60,  146,  155,  173],\n",
      "        [ 138,  116,  160,  196],\n",
      "        [  60,  270,  155,  315],\n",
      "        [  60,  270,  155,  315],\n",
      "        [  60,  270,  155,  315],\n",
      "        [ 142,  260,  162,  338],\n",
      "        [  60,  411,  155,  457],\n",
      "        [  60,  411,  155,  457],\n",
      "        [  60,  574,  125,  601],\n",
      "        [  60,  574,  125,  601],\n",
      "        [  60,  574,  125,  601],\n",
      "        [  60,  686,  123,  798],\n",
      "        [  60,  686,  123,  798],\n",
      "        [  60,  686,  123,  798],\n",
      "        [ 140,  695,  160,  789],\n",
      "        [  60,  858,  125,  885],\n",
      "        [  60,  858,  125,  885],\n",
      "        [  60,  858,  125,  885],\n",
      "        [ 406,  906,  441,  933],\n",
      "        [ 547,  906,  720,  933],\n",
      "        [ 547,  906,  720,  933],\n",
      "        [ 547,  906,  720,  933],\n",
      "        [ 335,  963,  556,  993],\n",
      "        [ 335,  963,  556,  993],\n",
      "        [ 335,  963,  556,  993],\n",
      "        [ 569,  963,  733,  993],\n",
      "        [ 569,  963,  733,  993],\n",
      "        [ 746,  963,  783, 1000],\n",
      "        [ 746,  963,  783, 1000],\n",
      "        [ 746,  963,  783, 1000],\n",
      "        [ 824,  906,  861,  933],\n",
      "        [ 963,  906,  997,  933],\n",
      "        [   0,    0,    0,    0]])\n"
     ]
    }
   ],
   "source": [
    "print(encoding[\"bbox\"][0])"
   ]
  },
  {
   "cell_type": "code",
   "execution_count": 8,
   "id": "c53419df-0d97-43f2-963b-79b735e67d51",
   "metadata": {},
   "outputs": [
    {
     "name": "stderr",
     "output_type": "stream",
     "text": [
      "/home/nassimb/.virtualenvs/chart-text-role-classification-demo/lib/python3.12/site-packages/transformers/modeling_utils.py:1614: FutureWarning: The `device` argument is deprecated and will be removed in v5 of Transformers.\n",
      "  warnings.warn(\n"
     ]
    },
    {
     "name": "stdout",
     "output_type": "stream",
     "text": [
      "1\n",
      "['TICK_LABEL', 'AXIS_TITLE', 'AXIS_TITLE', 'TICK_LABEL', 'TICK_LABEL', 'TICK_LABEL', 'TICK_LABEL', 'TICK_LABEL', 'TICK_LABEL', 'TICK_LABEL', 'TICK_LABEL', 'TICK_LABEL', 'TICK_LABEL', 'TICK_LABEL', 'TICK_LABEL', 'TICK_LABEL', 'TICK_LABEL', 'TICK_LABEL', 'TICK_LABEL', 'TICK_LABEL', 'TICK_LABEL', 'TICK_LABEL', 'TICK_LABEL', 'TICK_LABEL', 'TICK_LABEL', 'TICK_LABEL', 'TICK_LABEL', 'TICK_LABEL', 'TICK_LABEL', 'AXIS_TITLE', 'AXIS_TITLE', 'LEGEND_LABEL', 'AXIS_TITLE', 'AXIS_TITLE', 'OTHER', 'AXIS_TITLE', 'OTHER', 'TICK_LABEL', 'TICK_LABEL', 'TICK_LABEL']\n",
      "40\n"
     ]
    }
   ],
   "source": [
    "outputs = model(**encoding)\n",
    "predictions = outputs.logits.argmax(-1)\n",
    "print(len(predictions))\n",
    "labels = [model.config.id2label[idx.item()] for idx in predictions[0]]\n",
    "print(labels)\n",
    "print(len(labels))"
   ]
  },
  {
   "cell_type": "code",
   "execution_count": 9,
   "id": "9d2dbb8e-94c9-4f3f-b36a-0594b7f11028",
   "metadata": {},
   "outputs": [
    {
     "data": {
      "text/plain": [
       "TokenClassifierOutput(loss=None, logits=tensor([[[-8.6732e-01, -1.3840e+00,  1.6726e-01, -3.4561e-01,  1.6711e+00,\n",
       "          -6.1787e-01,  8.5743e-02, -2.5648e-01,  3.5146e-01],\n",
       "         [-1.4438e+00, -1.1077e+00, -5.3403e-01,  1.1121e+01, -1.4786e+00,\n",
       "          -1.1999e+00, -1.3696e+00, -1.2927e+00, -1.4122e+00],\n",
       "         [-1.4850e+00, -1.1519e+00, -5.4889e-01,  1.0999e+01, -1.4063e+00,\n",
       "          -1.1243e+00, -1.4132e+00, -1.2618e+00, -1.2905e+00],\n",
       "         [-1.8632e+00, -1.9006e+00, -1.5643e+00, -1.4714e+00,  1.2035e+01,\n",
       "          -1.8848e+00, -1.6300e+00, -2.1249e+00, -1.4960e+00],\n",
       "         [-1.7252e+00, -1.9428e+00, -1.5070e+00, -1.4451e+00,  1.2022e+01,\n",
       "          -1.8114e+00, -1.5993e+00, -2.2243e+00, -1.5517e+00],\n",
       "         [-1.8038e+00, -1.8307e+00, -1.5169e+00, -1.3335e+00,  1.2021e+01,\n",
       "          -1.8810e+00, -1.6059e+00, -2.1396e+00, -1.5216e+00],\n",
       "         [-1.7618e+00, -1.8407e+00, -1.7034e+00, -1.6079e+00,  1.2068e+01,\n",
       "          -2.0256e+00, -1.3378e+00, -2.0045e+00, -1.4702e+00],\n",
       "         [-1.8070e+00, -1.8388e+00, -1.5797e+00, -1.5890e+00,  1.2062e+01,\n",
       "          -1.9588e+00, -1.3166e+00, -2.0597e+00, -1.4668e+00],\n",
       "         [-1.8262e+00, -1.9036e+00, -2.0747e+00, -2.0974e+00,  1.0526e+01,\n",
       "          -2.7411e+00,  6.3532e-01, -1.7843e+00, -4.0007e-01],\n",
       "         [-1.8291e+00, -1.8617e+00, -1.6838e+00, -1.7513e+00,  1.2057e+01,\n",
       "          -2.0124e+00, -1.2787e+00, -2.0083e+00, -1.4001e+00],\n",
       "         [-1.7439e+00, -1.8880e+00, -1.6336e+00, -1.6757e+00,  1.2028e+01,\n",
       "          -1.9716e+00, -1.2505e+00, -2.0898e+00, -1.4168e+00],\n",
       "         [-1.8214e+00, -1.8321e+00, -1.6064e+00, -1.6570e+00,  1.2043e+01,\n",
       "          -2.0429e+00, -1.2264e+00, -2.0049e+00, -1.3933e+00],\n",
       "         [-1.8962e+00, -1.8627e+00, -2.0287e+00, -2.1038e+00,  1.0247e+01,\n",
       "          -2.8027e+00,  8.4911e-01, -1.7311e+00, -2.7423e-01],\n",
       "         [-1.7720e+00, -1.8344e+00, -1.7351e+00, -1.6230e+00,  1.2000e+01,\n",
       "          -2.1277e+00, -1.0916e+00, -1.9868e+00, -1.4303e+00],\n",
       "         [-1.7781e+00, -1.7869e+00, -1.7105e+00, -1.5558e+00,  1.2007e+01,\n",
       "          -2.0950e+00, -1.1558e+00, -1.9726e+00, -1.3986e+00],\n",
       "         [-1.8868e+00, -1.8471e+00, -1.6906e+00, -1.7185e+00,  1.2062e+01,\n",
       "          -2.0073e+00, -1.3006e+00, -2.0008e+00, -1.4330e+00],\n",
       "         [-1.8350e+00, -1.8747e+00, -1.6462e+00, -1.6708e+00,  1.2042e+01,\n",
       "          -1.9389e+00, -1.2798e+00, -2.0601e+00, -1.4655e+00],\n",
       "         [-1.8876e+00, -1.8380e+00, -1.6403e+00, -1.5479e+00,  1.2077e+01,\n",
       "          -1.9089e+00, -1.3343e+00, -2.0383e+00, -1.4968e+00],\n",
       "         [-1.9255e+00, -1.9128e+00, -1.7468e+00, -1.6139e+00,  1.2083e+01,\n",
       "          -1.8899e+00, -1.3273e+00, -1.9753e+00, -1.4301e+00],\n",
       "         [-1.8304e+00, -1.9448e+00, -1.6974e+00, -1.5944e+00,  1.2014e+01,\n",
       "          -1.8783e+00, -1.2335e+00, -2.0431e+00, -1.4152e+00],\n",
       "         [-1.8954e+00, -1.8928e+00, -1.6759e+00, -1.5403e+00,  1.2070e+01,\n",
       "          -1.8921e+00, -1.2417e+00, -1.9606e+00, -1.4410e+00],\n",
       "         [-1.8917e+00, -1.8260e+00, -2.0410e+00, -2.0613e+00,  1.0359e+01,\n",
       "          -2.7194e+00,  6.9252e-01, -1.7768e+00, -3.5900e-01],\n",
       "         [-1.8895e+00, -1.9265e+00, -1.6416e+00, -1.5495e+00,  1.2113e+01,\n",
       "          -1.7866e+00, -1.5175e+00, -2.0867e+00, -1.4683e+00],\n",
       "         [-1.8141e+00, -1.9639e+00, -1.6018e+00, -1.5800e+00,  1.2091e+01,\n",
       "          -1.7337e+00, -1.4575e+00, -2.1176e+00, -1.4935e+00],\n",
       "         [-1.8544e+00, -1.9352e+00, -1.5907e+00, -1.5207e+00,  1.2131e+01,\n",
       "          -1.7681e+00, -1.4138e+00, -2.0576e+00, -1.5061e+00],\n",
       "         [-1.9595e+00, -2.0659e+00, -1.6013e+00, -1.4900e+00,  1.2045e+01,\n",
       "          -1.7939e+00, -1.4217e+00, -2.0986e+00, -1.3950e+00],\n",
       "         [-1.9068e+00, -1.9608e+00, -1.6410e+00, -1.4440e+00,  1.2027e+01,\n",
       "          -1.7511e+00, -1.4277e+00, -2.1450e+00, -1.4583e+00],\n",
       "         [-1.8057e+00, -2.1001e+00, -1.5170e+00, -1.4784e+00,  1.1890e+01,\n",
       "          -1.8466e+00, -1.4264e+00, -2.2466e+00, -1.4476e+00],\n",
       "         [-1.8947e+00, -1.9057e+00, -1.5165e+00, -1.3960e+00,  1.1960e+01,\n",
       "          -1.8841e+00, -1.4125e+00, -2.1396e+00, -1.4871e+00],\n",
       "         [-2.8834e+00, -2.1130e-01,  2.2038e+00,  8.1669e+00, -2.1118e+00,\n",
       "          -4.4480e-01, -2.6312e+00, -1.6411e+00, -7.2459e-02],\n",
       "         [-3.0848e+00, -7.2866e-02,  4.0636e+00,  5.8871e+00, -1.6609e+00,\n",
       "          -3.4953e-01, -2.8185e+00, -1.8569e+00, -2.2339e-01],\n",
       "         [-2.5216e+00, -8.4787e-01,  4.7150e+00,  4.4814e+00, -1.2405e+00,\n",
       "          -6.0147e-01, -2.3856e+00, -1.7247e+00, -1.0687e-01],\n",
       "         [-2.4900e+00, -3.7681e-01,  3.2896e+00,  5.4601e+00, -1.9377e+00,\n",
       "          -7.9786e-01, -2.0330e+00, -1.4814e+00,  4.9149e-01],\n",
       "         [-2.3496e+00, -6.8933e-01,  2.5231e+00,  6.9585e+00, -1.7328e+00,\n",
       "          -1.2992e+00, -2.6228e+00, -1.4573e+00,  3.7099e-01],\n",
       "         [-1.8381e+00, -1.8483e+00,  2.7317e-03,  2.8087e+00, -8.0440e-01,\n",
       "          -2.1118e+00, -1.4538e+00, -9.0719e-01,  4.1258e+00],\n",
       "         [-2.5819e+00, -1.6131e+00,  8.3142e-01,  3.5371e+00, -8.9133e-01,\n",
       "          -1.6612e+00, -1.8063e+00, -1.3256e+00,  3.5361e+00],\n",
       "         [-2.2794e+00, -2.4056e+00,  2.0977e+00,  1.5402e+00, -7.8086e-01,\n",
       "          -1.9012e+00, -1.0708e+00, -6.1530e-01,  3.8386e+00],\n",
       "         [-1.9821e+00, -1.9793e+00, -1.5054e+00, -1.5247e+00,  1.2018e+01,\n",
       "          -1.9482e+00, -1.2959e+00, -2.0846e+00, -1.3939e+00],\n",
       "         [-1.9517e+00, -1.9777e+00, -1.5432e+00, -1.4532e+00,  1.1985e+01,\n",
       "          -1.9632e+00, -1.3732e+00, -2.0666e+00, -1.3754e+00],\n",
       "         [-8.4823e-01, -1.3789e+00,  1.8103e-01, -3.8124e-01,  1.5787e+00,\n",
       "          -6.0459e-01,  1.1974e-01, -2.2609e-01,  3.7342e-01]]],\n",
       "       grad_fn=<ViewBackward0>), hidden_states=None, attentions=None)"
      ]
     },
     "execution_count": 9,
     "metadata": {},
     "output_type": "execute_result"
    }
   ],
   "source": [
    "outputs"
   ]
  },
  {
   "cell_type": "code",
   "execution_count": 19,
   "id": "668d17db-d717-4582-855a-18bee2d0bd74",
   "metadata": {},
   "outputs": [],
   "source": [
    "draw = ImageDraw.Draw(image)\n",
    "\n",
    "bbox = encoding[\"bbox\"][0]\n",
    "\n",
    "for b, label in zip(bbox, labels):\n",
    "    x0, y0, x1, y1 = b.tolist()\n",
    "    # Skip zero bboxes if needed\n",
    "    if (x0, y0, x1, y1) == (0, 0, 0, 0):\n",
    "        continue\n",
    "    draw.rectangle([x0, y0, x1, y1], outline=\"red\", width=2)\n",
    "    draw.text((x0, y0 - 10), label, fill=\"red\")\n",
    "\n",
    "image.save(\"output_with_bboxes.jpg\")"
   ]
  },
  {
   "cell_type": "code",
   "execution_count": 20,
   "id": "06e9d0c2-1e71-40e6-b367-73dd1163582d",
   "metadata": {},
   "outputs": [
    {
     "data": {
      "text/plain": [
       "True"
      ]
     },
     "execution_count": 20,
     "metadata": {},
     "output_type": "execute_result"
    }
   ],
   "source": [
    "img = cv2.imread(\"PMC1618809___4.jpg\")\n",
    "\n",
    "for b, label in zip(bbox, labels):\n",
    "    x0, y0, x1, y1 = map(int, b.tolist())\n",
    "    # Skip zero boxes if needed\n",
    "    if (x0, y0, x1, y1) == (0, 0, 0, 0):\n",
    "        continue\n",
    "    # Draw rectangle\n",
    "    cv2.rectangle(img, (x0, y0), (x1, y1), color=(0, 0, 255), thickness=2)\n",
    "    # Draw label\n",
    "    cv2.putText(\n",
    "        img,\n",
    "        label,\n",
    "        (x0, max(0, y0 - 10)),\n",
    "        cv2.FONT_HERSHEY_SIMPLEX,\n",
    "        0.5,\n",
    "        (0, 0, 255),\n",
    "        1,\n",
    "        cv2.LINE_AA,\n",
    "    )\n",
    "\n",
    "cv2.imwrite(\"output2_with_bboxes.jpg\", img)"
   ]
  },
  {
   "cell_type": "code",
   "execution_count": 22,
   "id": "87dec38b-d92a-4caa-a253-e72b021c4bbd",
   "metadata": {},
   "outputs": [
    {
     "name": "stdout",
     "output_type": "stream",
     "text": [
      "tensor([[    0, 27490, 11772,   321,     4,   541,   321,  1244,   204,   321,\n",
      "             4,   844,   204,  9465,  4283,   321,     4,   698,   321,     4,\n",
      "          2546,   204,   321,     4,   612,   158,   379,     4,   844, 17134,\n",
      "          8913,  1258,   944, 24645,    36,    29,    43,   564,   389,     2]])\n",
      "<class 'transformers.tokenization_utils_base.BatchEncoding'>\n",
      "<s> 4s 0 Number of paretpants 1960 1960 1970 1960 1990 Yearotintaion otwaterpipe 200</s>\n"
     ]
    }
   ],
   "source": [
    "print(encoding[\"input_ids\"])\n",
    "print(type(encoding))\n",
    "decoded_sequence = processor.tokenizer.decode(\n",
    "    [\n",
    "        0,\n",
    "        204,\n",
    "        29,\n",
    "        321,\n",
    "        12270,\n",
    "        9,\n",
    "        181,\n",
    "        19508,\n",
    "        33609,\n",
    "        7571,\n",
    "        7571,\n",
    "        6200,\n",
    "        7571,\n",
    "        4525,\n",
    "        2041,\n",
    "        1242,\n",
    "        2544,\n",
    "        102,\n",
    "        1499,\n",
    "        1021,\n",
    "        17137,\n",
    "        5109,\n",
    "        30131,\n",
    "        1878,\n",
    "        2,\n",
    "    ]\n",
    ")\n",
    "print(decoded_sequence)"
   ]
  },
  {
   "cell_type": "code",
   "execution_count": 23,
   "id": "a49f679e-b9cb-49ee-af14-f2e4156cd259",
   "metadata": {},
   "outputs": [],
   "source": [
    "model = AutoModelForTokenClassification.from_pretrained(\n",
    "    \"nassimb0u/chart-text-role-classification-model\"\n",
    ")\n",
    "processor = AutoProcessor.from_pretrained(\n",
    "    \"nassimb0u/chart-text-role-classification-model\"\n",
    ")"
   ]
  },
  {
   "cell_type": "code",
   "execution_count": 61,
   "id": "aa19c1c4-807e-48ed-99c2-0084e9773a2f",
   "metadata": {},
   "outputs": [
    {
     "name": "stdout",
     "output_type": "stream",
     "text": [
      "LayoutLMv3TokenizerFast(name_or_path='nassimb0u/chart-text-role-classification-model', vocab_size=50265, model_max_length=512, is_fast=True, padding_side='right', truncation_side='right', special_tokens={'bos_token': '<s>', 'eos_token': '</s>', 'unk_token': '<unk>', 'sep_token': '</s>', 'pad_token': '<pad>', 'cls_token': '<s>', 'mask_token': '<mask>', 'additional_special_tokens': ['“', '”']}, clean_up_tokenization_spaces=False, added_tokens_decoder={\n",
      "\t0: AddedToken(\"<s>\", rstrip=False, lstrip=False, single_word=False, normalized=True, special=True),\n",
      "\t1: AddedToken(\"<pad>\", rstrip=False, lstrip=False, single_word=False, normalized=True, special=True),\n",
      "\t2: AddedToken(\"</s>\", rstrip=False, lstrip=False, single_word=False, normalized=True, special=True),\n",
      "\t3: AddedToken(\"<unk>\", rstrip=False, lstrip=False, single_word=False, normalized=True, special=True),\n",
      "\t50264: AddedToken(\"<mask>\", rstrip=False, lstrip=True, single_word=False, normalized=True, special=True),\n",
      "\t50265: AddedToken(\"“\", rstrip=False, lstrip=False, single_word=False, normalized=False, special=True),\n",
      "\t50266: AddedToken(\"”\", rstrip=False, lstrip=False, single_word=False, normalized=False, special=True),\n",
      "}\n",
      ")\n"
     ]
    }
   ],
   "source": [
    "print(processor.tokenizer)"
   ]
  },
  {
   "cell_type": "code",
   "execution_count": 24,
   "id": "67358b41-1e80-4856-ad0b-35a991449f93",
   "metadata": {},
   "outputs": [
    {
     "name": "stdout",
     "output_type": "stream",
     "text": [
      "15\n",
      "{'id': 0, 'bbox': [[333, 961, 785, 997], [4, 235, 32, 604], [268, 901, 287, 935], [404, 901, 443, 931], [545, 901, 584, 933], [681, 901, 720, 933], [822, 903, 861, 935], [958, 901, 997, 933], [58, 855, 127, 885], [56, 713, 125, 743], [56, 569, 127, 599], [56, 427, 125, 457], [56, 286, 125, 315], [56, 144, 127, 176], [58, 2, 127, 32]], 'text': [' Sedimentation Coetticient (s)', ' Relative concentration', ' 5', ' 10', ' 15', ' 20', ' 25', ' 30', ' 0.00', ' 0.05', ' 0.10', ' 0.15', ' 0.20', ' 0.25', ' 0.30']}\n"
     ]
    }
   ],
   "source": [
    "with open(\"./orderd_test_data_wtext/icpr22_dataset_ordered_wpred_wtext.json\") as f:\n",
    "    data = json.load(f)\n",
    "\n",
    "df = pd.DataFrame(data)\n",
    "\n",
    "df[\"bbox\"] = df[\"bbox\"].apply(ast.literal_eval)\n",
    "\n",
    "# Group by 'id' and collect lists of bboxes and texts for each id\n",
    "df = df.groupby(\"id\", sort=False).agg({\"bbox\": list, \"text\": list}).reset_index()\n",
    "data = df.to_dict(orient=\"records\")\n",
    "print(len(data[0][\"text\"]))\n",
    "print(data[0])"
   ]
  },
  {
   "cell_type": "code",
   "execution_count": 99,
   "id": "a266f345-1323-49b4-ba2e-b4bec2a24531",
   "metadata": {},
   "outputs": [
    {
     "name": "stdout",
     "output_type": "stream",
     "text": [
      "333 961 785 997\n",
      "dict_keys(['input_ids', 'attention_mask', 'bbox', 'pixel_values'])\n",
      "tensor([[    0, 17134,  8913,  1258,   944,  2645, 35056,    36,    29,    43,\n",
      "         27490, 11772,   195,   158,   379,   291,   564,   389,   321,     4,\n",
      "           612,   321,     4,  2546,   321,     4,   698,   321,     4,   996,\n",
      "           321,     4,   844,   321,     4,  1244,   321,     4,   541,     2]])\n",
      "tensor([[1, 1, 1, 1, 1, 1, 1, 1, 1, 1, 1, 1, 1, 1, 1, 1, 1, 1, 1, 1, 1, 1, 1, 1,\n",
      "         1, 1, 1, 1, 1, 1, 1, 1, 1, 1, 1, 1, 1, 1, 1, 1]])\n",
      "1\n",
      "tensor([[1., 1., 1.,  ..., 1., 1., 1.],\n",
      "        [1., 1., 1.,  ..., 1., 1., 1.],\n",
      "        [1., 1., 1.,  ..., 1., 1., 1.],\n",
      "        ...,\n",
      "        [1., 1., 1.,  ..., 1., 1., 1.],\n",
      "        [1., 1., 1.,  ..., 1., 1., 1.],\n",
      "        [1., 1., 1.,  ..., 1., 1., 1.]])\n"
     ]
    }
   ],
   "source": [
    "image = Image.open(\"PMC1618809___4.jpg\").convert(\"RGB\")\n",
    "w, h = image.size\n",
    "size = (w, h)\n",
    "\n",
    "print(\n",
    "    int(1000 * 154 / size[0]),\n",
    "    int(1000 * 420 / size[1]),\n",
    "    int(1000 * 363 / size[0]),\n",
    "    int(1000 * 436 / size[1]),\n",
    ")\n",
    "\n",
    "\n",
    "words = data[0][\"text\"]\n",
    "boxes = data[0][\"bbox\"]\n",
    "\n",
    "\n",
    "encoding = processor(image, words, boxes=boxes, return_tensors=\"pt\")\n",
    "print(encoding.keys())\n",
    "print(encoding[\"input_ids\"])\n",
    "print(encoding[\"attention_mask\"])\n",
    "print(len(encoding[\"bbox\"]))\n",
    "print(encoding[\"pixel_values\"][0][0])"
   ]
  },
  {
   "cell_type": "code",
   "execution_count": 114,
   "id": "3890d5af-d94f-4e41-b1c8-558351a99bce",
   "metadata": {},
   "outputs": [
    {
     "name": "stdout",
     "output_type": "stream",
     "text": [
      "tensor([[[  0,   0,   0,   0],\n",
      "         [333, 961, 785, 997],\n",
      "         [333, 961, 785, 997],\n",
      "         [333, 961, 785, 997],\n",
      "         [333, 961, 785, 997],\n",
      "         [333, 961, 785, 997],\n",
      "         [333, 961, 785, 997],\n",
      "         [333, 961, 785, 997],\n",
      "         [333, 961, 785, 997],\n",
      "         [333, 961, 785, 997],\n",
      "         [  4, 235,  32, 604],\n",
      "         [  4, 235,  32, 604],\n",
      "         [268, 901, 287, 935],\n",
      "         [404, 901, 443, 931],\n",
      "         [545, 901, 584, 933],\n",
      "         [681, 901, 720, 933],\n",
      "         [822, 903, 861, 935],\n",
      "         [958, 901, 997, 933],\n",
      "         [ 58, 855, 127, 885],\n",
      "         [ 58, 855, 127, 885],\n",
      "         [ 58, 855, 127, 885],\n",
      "         [ 56, 713, 125, 743],\n",
      "         [ 56, 713, 125, 743],\n",
      "         [ 56, 713, 125, 743],\n",
      "         [ 56, 569, 127, 599],\n",
      "         [ 56, 569, 127, 599],\n",
      "         [ 56, 569, 127, 599],\n",
      "         [ 56, 427, 125, 457],\n",
      "         [ 56, 427, 125, 457],\n",
      "         [ 56, 427, 125, 457],\n",
      "         [ 56, 286, 125, 315],\n",
      "         [ 56, 286, 125, 315],\n",
      "         [ 56, 286, 125, 315],\n",
      "         [ 56, 144, 127, 176],\n",
      "         [ 56, 144, 127, 176],\n",
      "         [ 56, 144, 127, 176],\n",
      "         [ 58,   2, 127,  32],\n",
      "         [ 58,   2, 127,  32],\n",
      "         [ 58,   2, 127,  32],\n",
      "         [  0,   0,   0,   0]]])\n",
      "40\n",
      "40\n",
      "[0, 1, 0, 0, 0, 0, 0, 0, 0, 0, 1, 0, 1, 1, 1, 1, 1, 1, 1, 0, 0, 1, 0, 0, 1, 0, 0, 1, 0, 0, 1, 0, 0, 1, 0, 0, 1, 0, 0, 0]\n",
      "['AXIS_TITLE', 'AXIS_TITLE', 'TICK_LABEL', 'TICK_LABEL', 'TICK_LABEL', 'TICK_LABEL', 'TICK_LABEL', 'TICK_LABEL', 'TICK_LABEL', 'TICK_LABEL', 'TICK_LABEL', 'TICK_LABEL', 'TICK_LABEL', 'TICK_LABEL', 'TICK_LABEL']\n",
      "40\n"
     ]
    }
   ],
   "source": [
    "outputs = model(**encoding)\n",
    "print(encoding[\"bbox\"])\n",
    "predictions = outputs.logits.argmax(-1)\n",
    "print(len(predictions[0]))\n",
    "labels = [model.config.id2label[idx.item()] for idx in predictions[0]]\n",
    "\n",
    "print(encoding[\"bbox\"].shape[1])\n",
    "mask = []\n",
    "for i in range(encoding[\"bbox\"].shape[1]):\n",
    "    zero = True\n",
    "    equal_to_pred = True\n",
    "    for j in range(encoding[\"bbox\"].shape[2]):\n",
    "        if encoding[\"bbox\"][0][i][j] != 0:\n",
    "            zero = False\n",
    "        if i > 0 and encoding[\"bbox\"][0][i - 1][j] != encoding[\"bbox\"][0][i][j]:\n",
    "            equal_to_pred = False\n",
    "    if zero or equal_to_pred:\n",
    "        mask.append(0)\n",
    "    else:\n",
    "        mask.append(1)\n",
    "\n",
    "print(mask)\n",
    "print([label for (m, label) in zip(mask, labels) if m == 1])\n",
    "print(len(labels))"
   ]
  },
  {
   "cell_type": "code",
   "execution_count": 50,
   "id": "77304212-9352-4f39-8863-cdb3c401bab3",
   "metadata": {},
   "outputs": [],
   "source": [
    "draw = ImageDraw.Draw(image)\n",
    "\n",
    "bbox = boxes\n",
    "\n",
    "for b, label in zip(bbox, labels):\n",
    "    x0, y0, x1, y1 = b\n",
    "    # Skip zero bboxes if needed\n",
    "    if (x0, y0, x1, y1) == (0, 0, 0, 0):\n",
    "        continue\n",
    "    draw.rectangle([x0, y0, x1, y1], outline=\"red\", width=2)\n",
    "    draw.text((x0, y0 - 10), label, fill=\"red\")\n",
    "\n",
    "image.save(\"output_with_bboxes.jpg\")"
   ]
  },
  {
   "cell_type": "code",
   "execution_count": 34,
   "id": "83ca9378-e201-466e-8668-4e5e377d149d",
   "metadata": {},
   "outputs": [
    {
     "data": {
      "text/plain": [
       "True"
      ]
     },
     "execution_count": 34,
     "metadata": {},
     "output_type": "execute_result"
    }
   ],
   "source": [
    "img = cv2.imread(\"PMC1618809___4.jpg\")\n",
    "\n",
    "for b, label in zip(bbox, labels):\n",
    "    x0, y0, x1, y1 = b\n",
    "    # Skip zero boxes if needed\n",
    "    if (x0, y0, x1, y1) == (0, 0, 0, 0):\n",
    "        continue\n",
    "    # Draw rectangle\n",
    "    cv2.rectangle(img, (x0, y0), (x1, y1), color=(0, 0, 255), thickness=2)\n",
    "    # Draw label\n",
    "    cv2.putText(\n",
    "        img,\n",
    "        label,\n",
    "        (x0, max(0, y0 - 10)),\n",
    "        cv2.FONT_HERSHEY_SIMPLEX,\n",
    "        0.5,\n",
    "        (0, 0, 255),\n",
    "        1,\n",
    "        cv2.LINE_AA,\n",
    "    )\n",
    "\n",
    "cv2.imwrite(\"output2_with_bboxes.jpg\", img)"
   ]
  },
  {
   "cell_type": "code",
   "execution_count": null,
   "id": "a270e9e6-9e67-444e-8503-cf7714f17c80",
   "metadata": {},
   "outputs": [],
   "source": []
  }
 ],
 "metadata": {
  "kernelspec": {
   "display_name": "chart-text-tole-classification-demo",
   "language": "python",
   "name": "chart-text-tole-classification-demo"
  },
  "language_info": {
   "codemirror_mode": {
    "name": "ipython",
    "version": 3
   },
   "file_extension": ".py",
   "mimetype": "text/x-python",
   "name": "python",
   "nbconvert_exporter": "python",
   "pygments_lexer": "ipython3",
   "version": "3.12.3"
  }
 },
 "nbformat": 4,
 "nbformat_minor": 5
}
